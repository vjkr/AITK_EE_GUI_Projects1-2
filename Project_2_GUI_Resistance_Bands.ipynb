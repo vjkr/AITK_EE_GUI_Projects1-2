{
  "nbformat": 4,
  "nbformat_minor": 0,
  "metadata": {
    "colab": {
      "provenance": [],
      "authorship_tag": "ABX9TyPyVw+qzychnMrqXVH1prBM",
      "include_colab_link": true
    },
    "kernelspec": {
      "name": "python3",
      "display_name": "Python 3"
    },
    "language_info": {
      "name": "python"
    }
  },
  "cells": [
    {
      "cell_type": "markdown",
      "metadata": {
        "id": "view-in-github",
        "colab_type": "text"
      },
      "source": [
        "<a href=\"https://colab.research.google.com/github/vjkr/AITK_EE_Projects1-2/blob/main/Project_2_GUI_Resistance_Bands.ipynb\" target=\"_parent\"><img src=\"https://colab.research.google.com/assets/colab-badge.svg\" alt=\"Open In Colab\"/></a>"
      ]
    },
    {
      "cell_type": "markdown",
      "source": [
        "Good Source\n",
        "# https://www.exasub.com/embedded-system/python-programming-language/how-to-create-a-resistor-color-code-calculator-with-gui-using-tkinter-in-python/\n"
      ],
      "metadata": {
        "id": "g59Ofb-ckQuA"
      }
    },
    {
      "cell_type": "markdown",
      "source": [
        "run code on https://codehs.com/sandbox/id/python-graphics-tkinter-IPnUun"
      ],
      "metadata": {
        "id": "GR99ZD1SkVYq"
      }
    },
    {
      "cell_type": "code",
      "execution_count": null,
      "metadata": {
        "cellView": "form",
        "id": "njDrWjIqkE-h"
      },
      "outputs": [],
      "source": [
        "# @title\n",
        "import tkinter as tk\n",
        "import webbrowser\n",
        "\n",
        "# Define the color code values\n",
        "color_codes = {\n",
        "    \"black\": {\"value\": 0, \"color\": \"#000000\"},\n",
        "    \"brown\": {\"value\": 1, \"color\": \"#964B00\"},\n",
        "    \"red\": {\"value\": 2, \"color\": \"#FF0000\"},\n",
        "    \"orange\": {\"value\": 3, \"color\": \"#FFA500\"},\n",
        "    \"yellow\": {\"value\": 4, \"color\": \"#FFFF00\"},\n",
        "    \"green\": {\"value\": 5, \"color\": \"#008000\"},\n",
        "    \"blue\": {\"value\": 6, \"color\": \"#0000FF\"},\n",
        "    \"violet\": {\"value\": 7, \"color\": \"#8B00FF\"},\n",
        "    \"gray\": {\"value\": 8, \"color\": \"#808080\"},\n",
        "    \"white\": {\"value\": 9, \"color\": \"#FFFFFF\"}\n",
        "}\n",
        "\n",
        "# Define the tolerance values\n",
        "tolerances = {\n",
        "    \"brown\": {\"value\": 1, \"color\": \"#964B00\"},\n",
        "    \"gold\": {\"value\": 5, \"color\": \"#FFD700\"},\n",
        "    \"silver\": {\"value\": 10, \"color\": \"#C0C0C0\"}\n",
        "}\n",
        "\n",
        "# Define the GUI\n",
        "root = tk.Tk()\n",
        "root.title(\"Resistor Color Code Calculator\")\n",
        "\n",
        "# Define the functions\n",
        "def calculate_resistance(band1, band2, band3, band4):\n",
        "    resistance_value = (color_codes[band1][\"value\"] * 10 + color_codes[band2][\"value\"]) * (10 ** color_codes[band3][\"value\"])\n",
        "    if band4 != \"none\":\n",
        "        tolerance_value = tolerances[band4][\"value\"]\n",
        "        return f\"Resistance value: {resistance_value} ohms, Tolerance: ±{tolerance_value}%\"\n",
        "    else:\n",
        "        return f\"Resistance value: {resistance_value} ohms\"\n",
        "\n",
        "def open_website():\n",
        "    webbrowser.open_new(\"http://www.aiktc.ac.in\")\n",
        "\n",
        "# Define the GUI elements\n",
        "label1 = tk.Label(root, text=\"Select the color of the first band:\")\n",
        "label1.grid(row=0, column=0)\n",
        "\n",
        "band1_var = tk.StringVar(root)\n",
        "band1_var.set(\"black\")\n",
        "\n",
        "band1_color_label = tk.Label(root, bg=color_codes[band1_var.get()][\"color\"], width=10)\n",
        "band1_color_label.grid(row=0, column=1)\n",
        "\n",
        "band1_dropdown = tk.OptionMenu(root, band1_var, *color_codes.keys(), command=lambda _: band1_color_label.config(bg=color_codes[band1_var.get()][\"color\"]))\n",
        "band1_dropdown.grid(row=0, column=2)\n",
        "\n",
        "label2 = tk.Label(root, text=\"Select the color of the second band:\")\n",
        "label2.grid(row=1, column=0)\n",
        "\n",
        "band2_var = tk.StringVar(root)\n",
        "band2_var.set(\"black\")\n",
        "\n",
        "band2_color_label = tk.Label(root, bg=color_codes[band2_var.get()][\"color\"], width=10)\n",
        "band2_color_label.grid(row=1, column=1)\n",
        "\n",
        "band2_dropdown = tk.OptionMenu(root, band2_var, *color_codes.keys(), command=lambda _: band2_color_label.config(bg=color_codes[band2_var.get()][\"color\"]))\n",
        "band2_dropdown.grid(row=1, column=2)\n",
        "\n",
        "label3 = tk.Label(root, text=\"Select the color of the third band:\")\n",
        "label3.grid(row=2, column=0)\n",
        "\n",
        "band3_var = tk.StringVar(root)\n",
        "band3_var.set(\"black\")\n",
        "\n",
        "band3_color_label = tk.Label(root, bg=color_codes[band3_var.get()][\"color\"], width=10)\n",
        "band3_color_label.grid(row=2, column=1)\n",
        "\n",
        "band3_dropdown = tk.OptionMenu(root, band3_var, *color_codes.keys(), command=lambda _: band3_color_label.config(bg=color_codes[band3_var.get()][\"color\"]))\n",
        "band3_dropdown.grid(row=2, column=2)\n",
        "\n",
        "label4 = tk.Label(root, text=\"Select the color of the fourth band (optional):\")\n",
        "label4.grid(row=3, column=0)\n",
        "\n",
        "band4_var = tk.StringVar(root)\n",
        "band4_var.set(\"gold\")\n",
        "\n",
        "band4_color_label = tk.Label(root, bg=tolerances[band4_var.get()][\"color\"], width=10)\n",
        "band4_color_label.grid(row=3, column=1)\n",
        "\n",
        "band4_dropdown = tk.OptionMenu(root, band4_var, *([\"none\"] + list(tolerances.keys())), command=lambda _: band4_color_label.config(bg=tolerances[band4_var.get()][\"color\"]))\n",
        "band4_dropdown.grid(row=3, column=2)\n",
        "\n",
        "calculate_button = tk.Button(root, text=\"Calculate\", command=lambda: result_label.config(text=calculate_resistance(band1_var.get(), band2_var.get(), band3_var.get(), band4_var.get())))\n",
        "calculate_button.grid(row=4, column=1)\n",
        "\n",
        "result_label = tk.Label(root, text=\"\", font=(\"Arial\", 14))\n",
        "result_label.grid(row=5, column=0, columnspan=3)\n",
        "\n",
        "link_label = tk.Label(root, text=\"visit website\", font=(\"Arial\", 14), fg=\"blue\", cursor=\"hand2\")\n",
        "link_label.grid(row=6, column=0, pady=10)\n",
        "link_label.bind(\"<Button-1>\", lambda event: open_website())\n",
        "\n",
        "root.mainloop()\n"
      ]
    },
    {
      "cell_type": "markdown",
      "source": [
        "https://datatofish.com/executable-pyinstaller/"
      ],
      "metadata": {
        "id": "DfaT3jHIkqyk"
      }
    }
  ]
}